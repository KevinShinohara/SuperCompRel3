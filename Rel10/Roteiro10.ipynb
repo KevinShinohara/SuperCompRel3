{
  "nbformat": 4,
  "nbformat_minor": 0,
  "metadata": {
    "colab": {
      "provenance": [],
      "gpuType": "T4"
    },
    "kernelspec": {
      "name": "python3",
      "display_name": "Python 3"
    },
    "language_info": {
      "name": "python"
    },
    "accelerator": "GPU"
  },
  "cells": [
    {
      "cell_type": "code",
      "source": [
        "!nvidia-smi\n"
      ],
      "metadata": {
        "colab": {
          "base_uri": "https://localhost:8080/"
        },
        "id": "394A48YxcPJG",
        "outputId": "c9683397-5af2-4821-970d-ad8f6d3ac244"
      },
      "execution_count": 4,
      "outputs": [
        {
          "output_type": "stream",
          "name": "stdout",
          "text": [
            "Wed Sep 18 00:03:32 2024       \n",
            "+---------------------------------------------------------------------------------------+\n",
            "| NVIDIA-SMI 535.104.05             Driver Version: 535.104.05   CUDA Version: 12.2     |\n",
            "|-----------------------------------------+----------------------+----------------------+\n",
            "| GPU  Name                 Persistence-M | Bus-Id        Disp.A | Volatile Uncorr. ECC |\n",
            "| Fan  Temp   Perf          Pwr:Usage/Cap |         Memory-Usage | GPU-Util  Compute M. |\n",
            "|                                         |                      |               MIG M. |\n",
            "|=========================================+======================+======================|\n",
            "|   0  Tesla T4                       Off | 00000000:00:04.0 Off |                    0 |\n",
            "| N/A   43C    P8               9W /  70W |      0MiB / 15360MiB |      0%      Default |\n",
            "|                                         |                      |                  N/A |\n",
            "+-----------------------------------------+----------------------+----------------------+\n",
            "                                                                                         \n",
            "+---------------------------------------------------------------------------------------+\n",
            "| Processes:                                                                            |\n",
            "|  GPU   GI   CI        PID   Type   Process name                            GPU Memory |\n",
            "|        ID   ID                                                             Usage      |\n",
            "|=======================================================================================|\n",
            "|  No running processes found                                                           |\n",
            "+---------------------------------------------------------------------------------------+\n"
          ]
        }
      ]
    },
    {
      "cell_type": "code",
      "source": [
        "%%writefile exercicio1.cu\n",
        "#include <thrust/host_vector.h>\n",
        "#include <thrust/device_vector.h>\n",
        "#include <iostream>\n",
        "#include <fstream>\n",
        "#include <chrono>\n",
        "\n",
        "int main() {\n",
        "    // Variáveis para medir o tempo\n",
        "    std::chrono::steady_clock::time_point start, end;\n",
        "    std::chrono::duration<double> elapsed;\n",
        "\n",
        "    // Abrindo o arquivo\n",
        "    std::ifstream file(\"stocks-google.txt\");\n",
        "    if (!file.is_open()) {\n",
        "        std::cerr << \"Erro ao abrir o arquivo stocks-google.txt\" << std::endl;\n",
        "        return 1;\n",
        "    }\n",
        "\n",
        "    // Vetor para armazenar os preços na CPU\n",
        "    thrust::host_vector<double> host_prices;\n",
        "\n",
        "    // Lendo os dados e armazenando no host_vector\n",
        "    double price;\n",
        "    start = std::chrono::steady_clock::now();\n",
        "    while (file >> price) {\n",
        "        host_prices.push_back(price);\n",
        "    }\n",
        "    end = std::chrono::steady_clock::now();\n",
        "    elapsed = end - start;\n",
        "    std::cout << \"Tempo de LEITURA (em segundos): \" << elapsed.count() << std::endl;\n",
        "\n",
        "    file.close();\n",
        "\n",
        "    // Transferindo os dados para a GPU\n",
        "    start = std::chrono::steady_clock::now();\n",
        "    thrust::device_vector<double> device_prices = host_prices;\n",
        "    end = std::chrono::steady_clock::now();\n",
        "    elapsed = end - start;\n",
        "    std::cout << \"Tempo de ALOCAÇÃO E CÓPIA (em segundos): \" << elapsed.count() << std::endl;\n",
        "\n",
        "    return 0;\n",
        "}\n"
      ],
      "metadata": {
        "colab": {
          "base_uri": "https://localhost:8080/"
        },
        "id": "C0YOsmOecrq6",
        "outputId": "9136a180-03ad-4402-f220-92abae1879cf"
      },
      "execution_count": 5,
      "outputs": [
        {
          "output_type": "stream",
          "name": "stdout",
          "text": [
            "Writing exercicio1.cu\n"
          ]
        }
      ]
    },
    {
      "cell_type": "code",
      "source": [
        "!nvcc -arch=sm_75 -std=c++14 exercicio1.cu -o exercicio1\n"
      ],
      "metadata": {
        "id": "xc74PeGBcunt"
      },
      "execution_count": 6,
      "outputs": []
    },
    {
      "cell_type": "code",
      "source": [
        "!./exercicio1\n"
      ],
      "metadata": {
        "colab": {
          "base_uri": "https://localhost:8080/"
        },
        "id": "pBY4B7wyc1df",
        "outputId": "d38c7e95-4fcf-4ae0-ddc3-2b31400a1276"
      },
      "execution_count": 7,
      "outputs": [
        {
          "output_type": "stream",
          "name": "stdout",
          "text": [
            "Tempo de LEITURA (em segundos): 0.00309812\n",
            "Tempo de ALOCAÇÃO E CÓPIA (em segundos): 0.110018\n"
          ]
        }
      ]
    },
    {
      "cell_type": "code",
      "source": [
        "%%writefile exercicio2.cu\n",
        "#include <thrust/host_vector.h>\n",
        "#include <thrust/device_vector.h>\n",
        "#include <thrust/reduce.h>\n",
        "#include <thrust/extrema.h>\n",
        "#include <iostream>\n",
        "#include <fstream>\n",
        "#include <chrono>\n",
        "\n",
        "int main() {\n",
        "    // Variáveis para medir o tempo\n",
        "    std::chrono::steady_clock::time_point start, end;\n",
        "    std::chrono::duration<double> elapsed;\n",
        "\n",
        "    // Abrindo o arquivo\n",
        "    std::ifstream file(\"stocks-google.txt\");\n",
        "    if (!file.is_open()) {\n",
        "        std::cerr << \"Erro ao abrir o arquivo stocks-google.txt\" << std::endl;\n",
        "        return 1;\n",
        "    }\n",
        "\n",
        "    // Vetor para armazenar os preços na CPU\n",
        "    thrust::host_vector<double> host_prices;\n",
        "\n",
        "    // Lendo os dados e armazenando no host_vector\n",
        "    double price;\n",
        "    start = std::chrono::steady_clock::now();\n",
        "    while (file >> price) {\n",
        "        host_prices.push_back(price);\n",
        "    }\n",
        "    end = std::chrono::steady_clock::now();\n",
        "    elapsed = end - start;\n",
        "    std::cout << \"Tempo de LEITURA (em segundos): \" << elapsed.count() << std::endl;\n",
        "\n",
        "    file.close();\n",
        "\n",
        "    // Transferindo os dados para a GPU\n",
        "    start = std::chrono::steady_clock::now();\n",
        "    thrust::device_vector<double> device_prices = host_prices;\n",
        "    end = std::chrono::steady_clock::now();\n",
        "    elapsed = end - start;\n",
        "    std::cout << \"Tempo de ALOCAÇÃO E CÓPIA (em segundos): \" << elapsed.count() << std::endl;\n",
        "\n",
        "    // Número total de elementos\n",
        "    size_t N = device_prices.size();\n",
        "\n",
        "    // Verificando se há pelo menos 365 dias de dados\n",
        "    if (N < 365) {\n",
        "        std::cerr << \"Dados insuficientes para os cálculos do último ano.\" << std::endl;\n",
        "        return 1;\n",
        "    }\n",
        "\n",
        "    // Calculando a soma total dos preços\n",
        "    double total_sum = thrust::reduce(device_prices.begin(), device_prices.end(), 0.0, thrust::plus<double>());\n",
        "    double total_mean = total_sum / N;\n",
        "    std::cout << \"Preço médio nos últimos 10 anos: \" << total_mean << std::endl;\n",
        "\n",
        "    // Calculando a soma dos últimos 365 dias\n",
        "    thrust::device_vector<double>::iterator last_year_start = device_prices.end() - 365;\n",
        "    double last_year_sum = thrust::reduce(last_year_start, device_prices.end(), 0.0, thrust::plus<double>());\n",
        "    double last_year_mean = last_year_sum / 365;\n",
        "    std::cout << \"Preço médio nos últimos 365 dias: \" << last_year_mean << std::endl;\n",
        "\n",
        "    // Encontrando o preço máximo e mínimo no período total\n",
        "    thrust::device_vector<double>::iterator max_iter = thrust::max_element(device_prices.begin(), device_prices.end());\n",
        "    thrust::device_vector<double>::iterator min_iter = thrust::min_element(device_prices.begin(), device_prices.end());\n",
        "    std::cout << \"Preço máximo nos últimos 10 anos: \" << *max_iter << std::endl;\n",
        "    std::cout << \"Preço mínimo nos últimos 10 anos: \" << *min_iter << std::endl;\n",
        "\n",
        "    // Encontrando o preço máximo e mínimo nos últimos 365 dias\n",
        "    thrust::device_vector<double>::iterator max_iter_last_year = thrust::max_element(last_year_start, device_prices.end());\n",
        "    thrust::device_vector<double>::iterator min_iter_last_year = thrust::min_element(last_year_start, device_prices.end());\n",
        "    std::cout << \"Preço máximo nos últimos 365 dias: \" << *max_iter_last_year << std::endl;\n",
        "    std::cout << \"Preço mínimo nos últimos 365 dias: \" << *min_iter_last_year << std::endl;\n",
        "\n",
        "    return 0;\n",
        "}\n"
      ],
      "metadata": {
        "colab": {
          "base_uri": "https://localhost:8080/"
        },
        "id": "j9nJ-WAfc5rI",
        "outputId": "ead89887-8bbf-4a54-a323-9d2574904c2e"
      },
      "execution_count": 8,
      "outputs": [
        {
          "output_type": "stream",
          "name": "stdout",
          "text": [
            "Writing exercicio2.cu\n"
          ]
        }
      ]
    },
    {
      "cell_type": "code",
      "source": [
        "!nvcc -arch=sm_75 -std=c++14 exercicio2.cu -o exercicio2\n"
      ],
      "metadata": {
        "id": "pN6PsMDyc9xT"
      },
      "execution_count": 9,
      "outputs": []
    },
    {
      "cell_type": "code",
      "source": [
        "!./exercicio2\n"
      ],
      "metadata": {
        "colab": {
          "base_uri": "https://localhost:8080/"
        },
        "id": "wUCHhTWYdEhm",
        "outputId": "b007acd7-238f-48db-da42-d0fe1a46f0ff"
      },
      "execution_count": 10,
      "outputs": [
        {
          "output_type": "stream",
          "name": "stdout",
          "text": [
            "Tempo de LEITURA (em segundos): 0.00375821\n",
            "Tempo de ALOCAÇÃO E CÓPIA (em segundos): 0.106951\n",
            "Preço médio nos últimos 10 anos: 1580.08\n",
            "Preço médio nos últimos 365 dias: 1615.81\n",
            "Preço máximo nos últimos 10 anos: 2200\n",
            "Preço mínimo nos últimos 10 anos: 1015.24\n",
            "Preço máximo nos últimos 365 dias: 2200\n",
            "Preço mínimo nos últimos 365 dias: 1060.5\n"
          ]
        }
      ]
    },
    {
      "cell_type": "code",
      "source": [
        "%%writefile exercicio3.cu\n",
        "#include <thrust/host_vector.h>\n",
        "#include <thrust/device_vector.h>\n",
        "#include <thrust/transform.h>\n",
        "#include <thrust/reduce.h>\n",
        "#include <iostream>\n",
        "#include <fstream>\n",
        "#include <sstream>\n",
        "\n",
        "int main() {\n",
        "    // Abrindo o arquivo\n",
        "    std::ifstream file(\"stocks2.txt\");\n",
        "    if (!file.is_open()) {\n",
        "        std::cerr << \"Erro ao abrir o arquivo stocks2.txt\" << std::endl;\n",
        "        return 1;\n",
        "    }\n",
        "\n",
        "    // Vetores para armazenar os preços na CPU\n",
        "    thrust::host_vector<double> host_AAPL_prices;\n",
        "    thrust::host_vector<double> host_MSFT_prices;\n",
        "\n",
        "    // Lendo os dados e armazenando nos host_vectors\n",
        "    std::string line;\n",
        "    while (std::getline(file, line)) {\n",
        "        std::stringstream ss(line);\n",
        "        std::string value;\n",
        "        double price_AAPL, price_MSFT;\n",
        "\n",
        "        // Lendo o preço da Apple\n",
        "        if (std::getline(ss, value, ',')) {\n",
        "            price_AAPL = std::stod(value);\n",
        "            host_AAPL_prices.push_back(price_AAPL);\n",
        "        } else {\n",
        "            std::cerr << \"Erro ao ler o preço da Apple.\" << std::endl;\n",
        "            return 1;\n",
        "        }\n",
        "\n",
        "        // Lendo o preço da Microsoft\n",
        "        if (std::getline(ss, value, ',')) {\n",
        "            price_MSFT = std::stod(value);\n",
        "            host_MSFT_prices.push_back(price_MSFT);\n",
        "        } else {\n",
        "            std::cerr << \"Erro ao ler o preço da Microsoft.\" << std::endl;\n",
        "            return 1;\n",
        "        }\n",
        "    }\n",
        "\n",
        "    file.close();\n",
        "\n",
        "    // Verificando se os vetores têm o mesmo tamanho\n",
        "    if (host_AAPL_prices.size() != host_MSFT_prices.size()) {\n",
        "        std::cerr << \"Os vetores de preços têm tamanhos diferentes.\" << std::endl;\n",
        "        return 1;\n",
        "    }\n",
        "\n",
        "    // Transferindo os dados para a GPU\n",
        "    thrust::device_vector<double> device_AAPL_prices = host_AAPL_prices;\n",
        "    thrust::device_vector<double> device_MSFT_prices = host_MSFT_prices;\n",
        "\n",
        "    // Vetor para armazenar as diferenças\n",
        "    thrust::device_vector<double> price_differences(device_AAPL_prices.size());\n",
        "\n",
        "    // Calculando a diferença ponto a ponto\n",
        "    thrust::transform(device_AAPL_prices.begin(), device_AAPL_prices.end(),\n",
        "                      device_MSFT_prices.begin(),\n",
        "                      price_differences.begin(),\n",
        "                      thrust::minus<double>());\n",
        "\n",
        "    // Calculando a média das diferenças\n",
        "    double total_difference = thrust::reduce(price_differences.begin(), price_differences.end(), 0.0, thrust::plus<double>());\n",
        "    double mean_difference = total_difference / price_differences.size();\n",
        "\n",
        "    // Interpretando o resultado\n",
        "    if (mean_difference > 0) {\n",
        "        std::cout << \"Em média, a Apple teve um preço \" << mean_difference << \" dólares maior que a Microsoft.\" << std::endl;\n",
        "    } else if (mean_difference < 0) {\n",
        "        std::cout << \"Em média, a Microsoft teve um preço \" << -mean_difference << \" dólares maior que a Apple.\" << std::endl;\n",
        "    } else {\n",
        "        std::cout << \"Em média, as duas empresas tiveram o mesmo preço.\" << std::endl;\n",
        "    }\n",
        "\n",
        "    return 0;\n",
        "}\n"
      ],
      "metadata": {
        "colab": {
          "base_uri": "https://localhost:8080/"
        },
        "id": "AQ1P_n8UdKQT",
        "outputId": "97f1a189-7e11-4a81-e70c-a92d769f89ac"
      },
      "execution_count": 11,
      "outputs": [
        {
          "output_type": "stream",
          "name": "stdout",
          "text": [
            "Writing exercicio3.cu\n"
          ]
        }
      ]
    },
    {
      "cell_type": "code",
      "source": [
        "!nvcc -arch=sm_75 -std=c++14 exercicio3.cu -o exercicio3\n"
      ],
      "metadata": {
        "id": "iK7SYbFcdNoc"
      },
      "execution_count": 12,
      "outputs": []
    },
    {
      "cell_type": "code",
      "source": [
        "!./exercicio3\n"
      ],
      "metadata": {
        "colab": {
          "base_uri": "https://localhost:8080/"
        },
        "id": "JPGnDbPvdQsG",
        "outputId": "779ded8a-d374-4e4d-a158-6b111137ae31"
      },
      "execution_count": 14,
      "outputs": [
        {
          "output_type": "stream",
          "name": "stdout",
          "text": [
            "Em média, a Microsoft teve um preço 265.232 dólares maior que a Apple.\n"
          ]
        }
      ]
    }
  ]
}